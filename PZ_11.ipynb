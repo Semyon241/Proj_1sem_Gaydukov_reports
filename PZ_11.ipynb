{
  "nbformat": 4,
  "nbformat_minor": 0,
  "metadata": {
    "colab": {
      "name": "Untitled0.ipynb",
      "provenance": [],
      "authorship_tag": "ABX9TyM3T34STqvo4Ndc0KsMyGCb",
      "include_colab_link": true
    },
    "kernelspec": {
      "name": "python3",
      "display_name": "Python 3"
    },
    "language_info": {
      "name": "python"
    }
  },
  "cells": [
    {
      "cell_type": "markdown",
      "metadata": {
        "id": "view-in-github",
        "colab_type": "text"
      },
      "source": [
        "<a href=\"https://colab.research.google.com/github/Semyon241/Proj_1sem_Gaydukov_reports/blob/main/PZ_11.ipynb\" target=\"_parent\"><img src=\"https://colab.research.google.com/assets/colab-badge.svg\" alt=\"Open In Colab\"/></a>"
      ]
    },
    {
      "cell_type": "code",
      "execution_count": 1,
      "metadata": {
        "colab": {
          "base_uri": "https://localhost:8080/"
        },
        "id": "uLUCHErkYnpW",
        "outputId": "4dd5c3df-d474-4dba-bed7-106ef14add53"
      },
      "outputs": [
        {
          "output_type": "stream",
          "name": "stdout",
          "text": [
            "Введите целое число: 4\n",
            "Введите второе целое число: \n",
            "Введено некорректное значение\n",
            "Введите второе целое число заново: 4\n",
            "Неравенства справедливы!\n"
          ]
        }
      ],
      "source": [
        "# Вариант №4: Даны два целых числа: A, B. Проверить истинность высказывания: «Справедливы неравенства A > 2 и B < 3».\n",
        "import math\n",
        "\n",
        "A = input('Введите целое число: ')  # Ввод переменной\n",
        "while type(A) != int:  # Обработка исключений\n",
        "    try:\n",
        "        A = int(A)\n",
        "    except ValueError:\n",
        "        print('Введено некоректное значение!')\n",
        "        A = input('Введите целое число заново: ')\n",
        "B = input('Введите второе целое число: ')  # Ввод переменной\n",
        "while type(B) != int:  # Обработка исключений\n",
        "    try:\n",
        "        B = int(B)\n",
        "    except ValueError:\n",
        "        print('Введено некорректное значение')\n",
        "        B = input('Введите второе целое число заново: ')\n",
        "if (A > 2 & B < 3):\n",
        "    print('Неравенства справедливы!')  # Ответ\n",
        "else:\n",
        "    print('Неравенства несправедливы.')  # Ответ"
      ]
    },
    {
      "cell_type": "code",
      "source": [
        "# Вариант №4: Дано вещественное число — цена 1 кг конфет. Вывести стоимость 0.1, 0.2, ..., 1 кг конфет.\n",
        "import math\n",
        "\n",
        "kilogramik = 0.0  # Присвоение переменной\n",
        "a = (input('Введите цену конфет: '))\n",
        "i = 0.0\n",
        "while type(a) != float:  # Обработка исключений\n",
        "    try:\n",
        "        a = float(a)\n",
        "        if a < 0:\n",
        "            print('Введено неверное значение!')\n",
        "            a = (input('Введите цену конфет заново: '))\n",
        "    except ValueError:\n",
        "        print('Введено неверное значение!')\n",
        "        a = ('Введите вещественное число заново: ')\n",
        "while kilogramik <= 0.9:  # Начало цикла\n",
        "    kilogramik += 0.1\n",
        "    i = a * kilogramik\n",
        "    print(round(i, 2))  # Ответ"
      ],
      "metadata": {
        "colab": {
          "base_uri": "https://localhost:8080/"
        },
        "id": "iXA0XPWcYz38",
        "outputId": "67ee13b6-349f-4513-8729-e08e6d1d4316"
      },
      "execution_count": 3,
      "outputs": [
        {
          "output_type": "stream",
          "name": "stdout",
          "text": [
            "Введите цену конфет: 4\n",
            "0.4\n",
            "0.8\n",
            "1.2\n",
            "1.6\n",
            "2.0\n",
            "2.4\n",
            "2.8\n",
            "3.2\n",
            "3.6\n",
            "4.0\n"
          ]
        }
      ]
    },
    {
      "cell_type": "code",
      "source": [
        "# Вариант 4: Найти сумму чисел ряда 1,2,3,…,60 с использованием функции нахождения суммы. Использовать локальные переменные.\n",
        "import math\n",
        "\n",
        "def summ():#Определение функции\n",
        "    i = 0\n",
        "    b = 1\n",
        "    while i <= 60 :#Начало цикла\n",
        "        b= i+b\n",
        "        b+= 1\n",
        "        i+=1\n",
        "        print(b)\n",
        "summ()#Вызов функции"
      ],
      "metadata": {
        "colab": {
          "base_uri": "https://localhost:8080/"
        },
        "id": "eVsNUplaY2-Y",
        "outputId": "70c56e0b-bf10-499a-d759-cad87fd1d520"
      },
      "execution_count": 4,
      "outputs": [
        {
          "output_type": "stream",
          "name": "stdout",
          "text": [
            "2\n",
            "4\n",
            "7\n",
            "11\n",
            "16\n",
            "22\n",
            "29\n",
            "37\n",
            "46\n",
            "56\n",
            "67\n",
            "79\n",
            "92\n",
            "106\n",
            "121\n",
            "137\n",
            "154\n",
            "172\n",
            "191\n",
            "211\n",
            "232\n",
            "254\n",
            "277\n",
            "301\n",
            "326\n",
            "352\n",
            "379\n",
            "407\n",
            "436\n",
            "466\n",
            "497\n",
            "529\n",
            "562\n",
            "596\n",
            "631\n",
            "667\n",
            "704\n",
            "742\n",
            "781\n",
            "821\n",
            "862\n",
            "904\n",
            "947\n",
            "991\n",
            "1036\n",
            "1082\n",
            "1129\n",
            "1177\n",
            "1226\n",
            "1276\n",
            "1327\n",
            "1379\n",
            "1432\n",
            "1486\n",
            "1541\n",
            "1597\n",
            "1654\n",
            "1712\n",
            "1771\n",
            "1831\n",
            "1892\n"
          ]
        }
      ]
    }
  ]
}